{
 "cells": [
  {
   "cell_type": "code",
   "execution_count": 31,
   "id": "751f4c37",
   "metadata": {},
   "outputs": [],
   "source": [
    "import pandas as pd\n",
    "import numpy as np\n",
    "from datetime import datetime\n",
    "from sklearn.model_selection import train_test_split\n",
    "from tensorflow.keras.models import Sequential\n",
    "from tensorflow.keras.layers import Dense\n",
    "from tensorflow.keras.callbacks import EarlyStopping\n",
    "import matplotlib.pyplot as plt\n",
    "from datetime import datetime\n",
    "from sklearn.cluster import KMeans\n",
    "from sklearn.metrics import silhouette_score\n",
    "import joblib\n"
   ]
  },
  {
   "cell_type": "code",
   "execution_count": 32,
   "id": "ccc34ccb",
   "metadata": {},
   "outputs": [],
   "source": [
    "# Cell 2: Load & Preprocess\n",
    "csv_path = 'pet_feeder_near_mealtimes_with_noise.csv'"
   ]
  },
  {
   "cell_type": "code",
   "execution_count": 33,
   "id": "8802014f",
   "metadata": {},
   "outputs": [],
   "source": [
    "# Parse timestamps and distances\n",
    "\n",
    "def parse_ts(x):\n",
    "    for fmt in ('%d/%m/%y %H:%M:%S','%Y-%m-%d %H:%M:%S','%y.%m.%d %H.%M.%S'):\n",
    "        try: return datetime.strptime(x, fmt)\n",
    "        except: continue\n",
    "    return pd.NaT\n",
    "\n",
    "df = pd.read_csv(csv_path)\n",
    "df['timestamp'] = df['timestamp'].astype(str).apply(parse_ts)\n",
    "df['distance_cm'] = pd.to_numeric(\n",
    "    df['distance_cm'].astype(str).str.replace(',','.'), errors='coerce')"
   ]
  },
  {
   "cell_type": "code",
   "execution_count": 34,
   "id": "99f35717",
   "metadata": {},
   "outputs": [
    {
     "name": "stdout",
     "output_type": "stream",
     "text": [
      "Anomaly counts: {'missing_timestamps': 0, 'missing_distances': 694, 'outliers': 144, 'negatives': 72, 'duplicates': 144}\n"
     ]
    }
   ],
   "source": [
    "# Count anomalies\n",
    "counts = {\n",
    "    'missing_timestamps': df['timestamp'].isna().sum(),\n",
    "    'missing_distances': df['distance_cm'].isna().sum(),\n",
    "    'outliers':   (df['distance_cm']>20).sum(),\n",
    "    'negatives':  (df['distance_cm']<0).sum(),\n",
    "    'duplicates': df.duplicated().sum()\n",
    "}\n",
    "print(\"Anomaly counts:\", counts)"
   ]
  },
  {
   "cell_type": "code",
   "execution_count": 35,
   "id": "73d8472d",
   "metadata": {},
   "outputs": [],
   "source": [
    "# Drop anomalies\n",
    "df = df.dropna(subset=['timestamp','distance_cm'])\n",
    "df = df[(df['distance_cm']>=0)&(df['distance_cm']<=20)].drop_duplicates()"
   ]
  },
  {
   "cell_type": "code",
   "execution_count": 36,
   "id": "fcf2dd89",
   "metadata": {},
   "outputs": [],
   "source": [
    "# Focus on 'near feeder' events\n",
    " # Compute seconds-of-day for each timestamp\n",
    "df['sec_of_day'] = (\n",
    "     df['timestamp'].dt.hour * 3600 +\n",
    "     df['timestamp'].dt.minute * 60 +\n",
    "     df['timestamp'].dt.second\n",
    " )"
   ]
  },
  {
   "cell_type": "code",
   "execution_count": 37,
   "id": "88a77492",
   "metadata": {},
   "outputs": [
    {
     "name": "stderr",
     "output_type": "stream",
     "text": [
      "C:\\Users\\Wijesingha\\AppData\\Roaming\\Python\\Python311\\site-packages\\sklearn\\cluster\\_kmeans.py:1416: FutureWarning: The default value of `n_init` will change from 10 to 'auto' in 1.4. Set the value of `n_init` explicitly to suppress the warning\n",
      "  super()._check_params_vs_input(X, default_n_init=10)\n"
     ]
    },
    {
     "data": {
      "text/html": [
       "<style>#sk-container-id-2 {color: black;}#sk-container-id-2 pre{padding: 0;}#sk-container-id-2 div.sk-toggleable {background-color: white;}#sk-container-id-2 label.sk-toggleable__label {cursor: pointer;display: block;width: 100%;margin-bottom: 0;padding: 0.3em;box-sizing: border-box;text-align: center;}#sk-container-id-2 label.sk-toggleable__label-arrow:before {content: \"▸\";float: left;margin-right: 0.25em;color: #696969;}#sk-container-id-2 label.sk-toggleable__label-arrow:hover:before {color: black;}#sk-container-id-2 div.sk-estimator:hover label.sk-toggleable__label-arrow:before {color: black;}#sk-container-id-2 div.sk-toggleable__content {max-height: 0;max-width: 0;overflow: hidden;text-align: left;background-color: #f0f8ff;}#sk-container-id-2 div.sk-toggleable__content pre {margin: 0.2em;color: black;border-radius: 0.25em;background-color: #f0f8ff;}#sk-container-id-2 input.sk-toggleable__control:checked~div.sk-toggleable__content {max-height: 200px;max-width: 100%;overflow: auto;}#sk-container-id-2 input.sk-toggleable__control:checked~label.sk-toggleable__label-arrow:before {content: \"▾\";}#sk-container-id-2 div.sk-estimator input.sk-toggleable__control:checked~label.sk-toggleable__label {background-color: #d4ebff;}#sk-container-id-2 div.sk-label input.sk-toggleable__control:checked~label.sk-toggleable__label {background-color: #d4ebff;}#sk-container-id-2 input.sk-hidden--visually {border: 0;clip: rect(1px 1px 1px 1px);clip: rect(1px, 1px, 1px, 1px);height: 1px;margin: -1px;overflow: hidden;padding: 0;position: absolute;width: 1px;}#sk-container-id-2 div.sk-estimator {font-family: monospace;background-color: #f0f8ff;border: 1px dotted black;border-radius: 0.25em;box-sizing: border-box;margin-bottom: 0.5em;}#sk-container-id-2 div.sk-estimator:hover {background-color: #d4ebff;}#sk-container-id-2 div.sk-parallel-item::after {content: \"\";width: 100%;border-bottom: 1px solid gray;flex-grow: 1;}#sk-container-id-2 div.sk-label:hover label.sk-toggleable__label {background-color: #d4ebff;}#sk-container-id-2 div.sk-serial::before {content: \"\";position: absolute;border-left: 1px solid gray;box-sizing: border-box;top: 0;bottom: 0;left: 50%;z-index: 0;}#sk-container-id-2 div.sk-serial {display: flex;flex-direction: column;align-items: center;background-color: white;padding-right: 0.2em;padding-left: 0.2em;position: relative;}#sk-container-id-2 div.sk-item {position: relative;z-index: 1;}#sk-container-id-2 div.sk-parallel {display: flex;align-items: stretch;justify-content: center;background-color: white;position: relative;}#sk-container-id-2 div.sk-item::before, #sk-container-id-2 div.sk-parallel-item::before {content: \"\";position: absolute;border-left: 1px solid gray;box-sizing: border-box;top: 0;bottom: 0;left: 50%;z-index: -1;}#sk-container-id-2 div.sk-parallel-item {display: flex;flex-direction: column;z-index: 1;position: relative;background-color: white;}#sk-container-id-2 div.sk-parallel-item:first-child::after {align-self: flex-end;width: 50%;}#sk-container-id-2 div.sk-parallel-item:last-child::after {align-self: flex-start;width: 50%;}#sk-container-id-2 div.sk-parallel-item:only-child::after {width: 0;}#sk-container-id-2 div.sk-dashed-wrapped {border: 1px dashed gray;margin: 0 0.4em 0.5em 0.4em;box-sizing: border-box;padding-bottom: 0.4em;background-color: white;}#sk-container-id-2 div.sk-label label {font-family: monospace;font-weight: bold;display: inline-block;line-height: 1.2em;}#sk-container-id-2 div.sk-label-container {text-align: center;}#sk-container-id-2 div.sk-container {/* jupyter's `normalize.less` sets `[hidden] { display: none; }` but bootstrap.min.css set `[hidden] { display: none !important; }` so we also need the `!important` here to be able to override the default hidden behavior on the sphinx rendered scikit-learn.org. See: https://github.com/scikit-learn/scikit-learn/issues/21755 */display: inline-block !important;position: relative;}#sk-container-id-2 div.sk-text-repr-fallback {display: none;}</style><div id=\"sk-container-id-2\" class=\"sk-top-container\"><div class=\"sk-text-repr-fallback\"><pre>KMeans(n_clusters=3, random_state=42)</pre><b>In a Jupyter environment, please rerun this cell to show the HTML representation or trust the notebook. <br />On GitHub, the HTML representation is unable to render, please try loading this page with nbviewer.org.</b></div><div class=\"sk-container\" hidden><div class=\"sk-item\"><div class=\"sk-estimator sk-toggleable\"><input class=\"sk-toggleable__control sk-hidden--visually\" id=\"sk-estimator-id-2\" type=\"checkbox\" checked><label for=\"sk-estimator-id-2\" class=\"sk-toggleable__label sk-toggleable__label-arrow\">KMeans</label><div class=\"sk-toggleable__content\"><pre>KMeans(n_clusters=3, random_state=42)</pre></div></div></div></div></div>"
      ],
      "text/plain": [
       "KMeans(n_clusters=3, random_state=42)"
      ]
     },
     "execution_count": 37,
     "metadata": {},
     "output_type": "execute_result"
    }
   ],
   "source": [
    "# Cell 3: Fit KMeans to find 3 meal-time clusters and evaluate\n",
    "X = df['sec_of_day'].values.reshape(-1,1)\n",
    "kmeans = KMeans(n_clusters=3, random_state=42)\n",
    "kmeans.fit(X)"
   ]
  },
  {
   "cell_type": "code",
   "execution_count": 38,
   "id": "2afd8927",
   "metadata": {},
   "outputs": [
    {
     "name": "stdout",
     "output_type": "stream",
     "text": [
      "Silhouette Score for 3 clusters: 0.905\n"
     ]
    }
   ],
   "source": [
    "# Evaluate clustering quality\n",
    "from sklearn.metrics import silhouette_score\n",
    "labels = kmeans.labels_\n",
    "sil_score = silhouette_score(X, labels)\n",
    "print(f\"Silhouette Score for 3 clusters: {sil_score:.3f}\")\n",
    "\n",
    "centers = np.sort(kmeans.cluster_centers_.flatten())  # sorted meal times (hh:mm:ss):\", meal_times)"
   ]
  },
  {
   "cell_type": "code",
   "execution_count": 39,
   "id": "cf52d7a2",
   "metadata": {},
   "outputs": [
    {
     "data": {
      "image/png": "[encoded data removed]",
      "text/plain": [
       "<Figure size 1000x400 with 1 Axes>"
      ]
     },
     "metadata": {},
     "output_type": "display_data"
    }
   ],
   "source": [
    "# Cell 4: Visualize clusters\n",
    "plt.figure(figsize=(10,4))\n",
    "plt.hist(X.flatten(), bins=1440, color='skyblue')\n",
    "for c in centers:\n",
    "    plt.axvline(c, color='red')\n",
    "plt.title('Distribution of feeder proximity times with meal-time markers')\n",
    "plt.xlabel('Seconds of day')\n",
    "plt.ylabel('Frequency')\n",
    "plt.show()"
   ]
  },
  {
   "cell_type": "code",
   "execution_count": null,
   "id": "d87e29fc",
   "metadata": {},
   "outputs": [
    {
     "name": "stdout",
     "output_type": "stream",
     "text": [
      "KMeans model saved to meal_time_kmeans.pkl\n"
     ]
    }
   ],
   "source": [
    "# Cell 5: Save KMeans model\n",
    "import joblib\n",
    "# Save the trained KMeans model directly using joblib for consistency\n",
    "def save_model(model, path):\n",
    "    joblib.dump(model, path)\n",
    "\n",
    "# Persist the model to disk\n",
    "save_model(kmeans, 'meal_time_kmeans.pkl')\n",
    "print('KMeans model saved to meal_time_kmeans.pkl')"
   ]
  }
 ],
 "metadata": {
  "kernelspec": {
   "display_name": "base",
   "language": "python",
   "name": "python3"
  },
  "language_info": {
   "codemirror_mode": {
    "name": "ipython",
    "version": 3
   },
   "file_extension": ".py",
   "mimetype": "text/x-python",
   "name": "python",
   "nbconvert_exporter": "python",
   "pygments_lexer": "ipython3",
   "version": "3.11.5"
  }
 },
 "nbformat": 4,
 "nbformat_minor": 5
}
